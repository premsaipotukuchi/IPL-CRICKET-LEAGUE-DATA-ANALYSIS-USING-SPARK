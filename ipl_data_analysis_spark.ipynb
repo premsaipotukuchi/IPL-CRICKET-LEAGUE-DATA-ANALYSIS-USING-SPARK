{
 "cells": [
  {
   "cell_type": "code",
   "execution_count": 0,
   "metadata": {
    "application/vnd.databricks.v1+cell": {
     "cellMetadata": {
      "byteLimit": 2048000,
      "rowLimit": 10000
     },
     "inputWidgets": {},
     "nuid": "9b32f0a6-0b74-4bc2-97b5-039b67667713",
     "showTitle": false,
     "tableResultSettingsMap": {},
     "title": ""
    }
   },
   "outputs": [
    {
     "output_type": "display_data",
     "data": {
      "text/html": [
       "\n",
       "            <div>\n",
       "                <p><b>SparkSession - hive</b></p>\n",
       "                \n",
       "        <div>\n",
       "            <p><b>SparkContext</b></p>\n",
       "\n",
       "            <p><a href=\"/?o=2255596977594171#setting/sparkui/0109-044249-8y4efk66/driver-7170551431775040723\">Spark UI</a></p>\n",
       "\n",
       "            <dl>\n",
       "              <dt>Version</dt>\n",
       "                <dd><code>v3.3.2</code></dd>\n",
       "              <dt>Master</dt>\n",
       "                <dd><code>local[8]</code></dd>\n",
       "              <dt>AppName</dt>\n",
       "                <dd><code>Databricks Shell</code></dd>\n",
       "            </dl>\n",
       "        </div>\n",
       "        \n",
       "            </div>\n",
       "        "
      ]
     },
     "metadata": {
      "application/vnd.databricks.v1+output": {
       "addedWidgets": {},
       "arguments": {},
       "data": "\n            <div>\n                <p><b>SparkSession - hive</b></p>\n                \n        <div>\n            <p><b>SparkContext</b></p>\n\n            <p><a href=\"/?o=2255596977594171#setting/sparkui/0109-044249-8y4efk66/driver-7170551431775040723\">Spark UI</a></p>\n\n            <dl>\n              <dt>Version</dt>\n                <dd><code>v3.3.2</code></dd>\n              <dt>Master</dt>\n                <dd><code>local[8]</code></dd>\n              <dt>AppName</dt>\n                <dd><code>Databricks Shell</code></dd>\n            </dl>\n        </div>\n        \n            </div>\n        ",
       "datasetInfos": [],
       "metadata": {},
       "removedWidgets": [],
       "textData": null,
       "type": "htmlSandbox"
      }
     },
     "output_type": "display_data"
    }
   ],
   "source": [
    "spark"
   ]
  },
  {
   "cell_type": "code",
   "execution_count": 0,
   "metadata": {
    "application/vnd.databricks.v1+cell": {
     "cellMetadata": {
      "byteLimit": 2048000,
      "rowLimit": 10000
     },
     "inputWidgets": {},
     "nuid": "fd72ef8d-9573-40bb-9789-8edd7939f9b3",
     "showTitle": false,
     "tableResultSettingsMap": {},
     "title": ""
    }
   },
   "outputs": [],
   "source": [
    "from pyspark.sql.types import StructField, StructType, IntegerType, StringType, BooleanType, DateType, DecimalType\n",
    "from pyspark.sql.functions import col,when,sum,avg,row_number\n",
    "import matplotlib.pyplot as plt\n",
    "import seaborn as sns"
   ]
  },
  {
   "cell_type": "code",
   "execution_count": 0,
   "metadata": {
    "application/vnd.databricks.v1+cell": {
     "cellMetadata": {
      "byteLimit": 2048000,
      "rowLimit": 10000
     },
     "inputWidgets": {},
     "nuid": "4064c7a1-3bab-459a-b294-6db4996f357a",
     "showTitle": false,
     "tableResultSettingsMap": {},
     "title": ""
    }
   },
   "outputs": [
    {
     "output_type": "display_data",
     "data": {
      "text/html": [
       "<style scoped>\n",
       "  .table-result-container {\n",
       "    max-height: 300px;\n",
       "    overflow: auto;\n",
       "  }\n",
       "  table, th, td {\n",
       "    border: 1px solid black;\n",
       "    border-collapse: collapse;\n",
       "  }\n",
       "  th, td {\n",
       "    padding: 5px;\n",
       "  }\n",
       "  th {\n",
       "    text-align: left;\n",
       "  }\n",
       "</style><div class='table-result-container'><table class='table-result'><thead style='background-color: white'><tr><th>path</th><th>name</th><th>size</th><th>modificationTime</th></tr></thead><tbody><tr><td>dbfs:/FileStore/tables/rootkey.csv</td><td>rootkey.csv</td><td>99</td><td>1736297978000</td></tr></tbody></table></div>"
      ]
     },
     "metadata": {
      "application/vnd.databricks.v1+output": {
       "addedWidgets": {},
       "aggData": [],
       "aggError": "",
       "aggOverflow": false,
       "aggSchema": [],
       "aggSeriesLimitReached": false,
       "aggType": "",
       "arguments": {},
       "columnCustomDisplayInfos": {},
       "data": [
        [
         "dbfs:/FileStore/tables/rootkey.csv",
         "rootkey.csv",
         99,
         1736297978000
        ]
       ],
       "datasetInfos": [],
       "dbfsResultPath": null,
       "isJsonSchema": true,
       "metadata": {
        "isDbfsCommandResult": false
       },
       "overflow": false,
       "plotOptions": {
        "customPlotOptions": {},
        "displayType": "table",
        "pivotAggregation": null,
        "pivotColumns": null,
        "xColumns": null,
        "yColumns": null
       },
       "removedWidgets": [],
       "schema": [
        {
         "metadata": "{}",
         "name": "path",
         "type": "\"string\""
        },
        {
         "metadata": "{}",
         "name": "name",
         "type": "\"string\""
        },
        {
         "metadata": "{}",
         "name": "size",
         "type": "\"long\""
        },
        {
         "metadata": "{}",
         "name": "modificationTime",
         "type": "\"long\""
        }
       ],
       "type": "table"
      }
     },
     "output_type": "display_data"
    }
   ],
   "source": [
    "%fs ls dbfs:/FileStore/tables/rootkey.csv"
   ]
  },
  {
   "cell_type": "code",
   "execution_count": 0,
   "metadata": {
    "application/vnd.databricks.v1+cell": {
     "cellMetadata": {
      "byteLimit": 2048000,
      "rowLimit": 10000
     },
     "inputWidgets": {},
     "nuid": "aaa8ac55-5f08-4c81-8e7a-406cea896677",
     "showTitle": false,
     "tableResultSettingsMap": {},
     "title": ""
    }
   },
   "outputs": [
    {
     "output_type": "stream",
     "name": "stdout",
     "output_type": "stream",
     "text": [
      "Out[4]: ['Access key ID', 'Secret access key']"
     ]
    }
   ],
   "source": [
    "aws_keys_df =  spark.read.format('csv').option('header','true').option('inferschema','true').load('dbfs:/FileStore/tables/rootkey.csv')\n",
    "\n",
    "aws_keys_df.columns"
   ]
  },
  {
   "cell_type": "code",
   "execution_count": 0,
   "metadata": {
    "application/vnd.databricks.v1+cell": {
     "cellMetadata": {
      "byteLimit": 2048000,
      "rowLimit": 10000
     },
     "inputWidgets": {},
     "nuid": "562cfbd7-50e1-4276-8e7e-2a8742b9b9be",
     "showTitle": false,
     "tableResultSettingsMap": {},
     "title": ""
    }
   },
   "outputs": [],
   "source": [
    "ACCESS_KEY=aws_keys_df.select('Access key ID').take(1)[0]['Access key ID']\n",
    "SECRET_KEY=aws_keys_df.select('Secret access key').take(1)[0]['Secret access key']\n"
   ]
  },
  {
   "cell_type": "code",
   "execution_count": 0,
   "metadata": {
    "application/vnd.databricks.v1+cell": {
     "cellMetadata": {
      "byteLimit": 2048000,
      "rowLimit": 10000
     },
     "inputWidgets": {},
     "nuid": "b7889be5-8ccb-4075-8455-560087bb41eb",
     "showTitle": false,
     "tableResultSettingsMap": {},
     "title": ""
    }
   },
   "outputs": [],
   "source": [
    "import urllib\n",
    "ENCODED_SECRET_KEY = urllib.parse.quote(string=SECRET_KEY,safe=\"\")\n"
   ]
  },
  {
   "cell_type": "code",
   "execution_count": 0,
   "metadata": {
    "application/vnd.databricks.v1+cell": {
     "cellMetadata": {
      "byteLimit": 2048000,
      "rowLimit": 10000
     },
     "inputWidgets": {},
     "nuid": "d769e1e9-09da-4e8f-a289-1dfdcc9f9d2c",
     "showTitle": false,
     "tableResultSettingsMap": {},
     "title": ""
    }
   },
   "outputs": [],
   "source": [
    "AWS_S3_BUCKET = 'my-data-analytics-prj'\n",
    "MOUNT_NAME = '/mnt/mount_s3'\n",
    "SOURCE_URL = f\"s3a://{AWS_S3_BUCKET}\""
   ]
  },
  {
   "cell_type": "code",
   "execution_count": 0,
   "metadata": {
    "application/vnd.databricks.v1+cell": {
     "cellMetadata": {
      "byteLimit": 2048000,
      "rowLimit": 10000
     },
     "inputWidgets": {},
     "nuid": "1cb91cef-ce71-4058-8ca5-f8d86e87c4b9",
     "showTitle": false,
     "tableResultSettingsMap": {},
     "title": ""
    }
   },
   "outputs": [
    {
     "output_type": "display_data",
     "data": {
      "text/plain": [
       "\u001B[0;31m---------------------------------------------------------------------------\u001B[0m\n",
       "\u001B[0;31mExecutionError\u001B[0m                            Traceback (most recent call last)\n",
       "File \u001B[0;32m<command-4213482093363824>:1\u001B[0m\n",
       "\u001B[0;32m----> 1\u001B[0m \u001B[43mdbutils\u001B[49m\u001B[38;5;241;43m.\u001B[39;49m\u001B[43mfs\u001B[49m\u001B[38;5;241;43m.\u001B[39;49m\u001B[43mmount\u001B[49m\u001B[43m(\u001B[49m\n",
       "\u001B[1;32m      2\u001B[0m \u001B[43m    \u001B[49m\u001B[43msource\u001B[49m\u001B[38;5;241;43m=\u001B[39;49m\u001B[43mSOURCE_URL\u001B[49m\u001B[43m,\u001B[49m\n",
       "\u001B[1;32m      3\u001B[0m \u001B[43m    \u001B[49m\u001B[43mmount_point\u001B[49m\u001B[38;5;241;43m=\u001B[39;49m\u001B[43mMOUNT_NAME\u001B[49m\u001B[43m,\u001B[49m\n",
       "\u001B[1;32m      4\u001B[0m \u001B[43m    \u001B[49m\u001B[43mextra_configs\u001B[49m\u001B[38;5;241;43m=\u001B[39;49m\u001B[43m{\u001B[49m\n",
       "\u001B[1;32m      5\u001B[0m \u001B[43m        \u001B[49m\u001B[38;5;124;43m\"\u001B[39;49m\u001B[38;5;124;43mfs.s3a.access.key\u001B[39;49m\u001B[38;5;124;43m\"\u001B[39;49m\u001B[43m:\u001B[49m\u001B[43m \u001B[49m\u001B[43mACCESS_KEY\u001B[49m\u001B[43m,\u001B[49m\n",
       "\u001B[1;32m      6\u001B[0m \u001B[43m        \u001B[49m\u001B[38;5;124;43m\"\u001B[39;49m\u001B[38;5;124;43mfs.s3a.secret.key\u001B[39;49m\u001B[38;5;124;43m\"\u001B[39;49m\u001B[43m:\u001B[49m\u001B[43m \u001B[49m\u001B[43mSECRET_KEY\u001B[49m\n",
       "\u001B[1;32m      7\u001B[0m \u001B[43m    \u001B[49m\u001B[43m}\u001B[49m\n",
       "\u001B[1;32m      8\u001B[0m \u001B[43m)\u001B[49m\n",
       "\n",
       "File \u001B[0;32m/databricks/python_shell/dbruntime/dbutils.py:364\u001B[0m, in \u001B[0;36mDBUtils.FSHandler.prettify_exception_message.<locals>.f_with_exception_handling\u001B[0;34m(*args, **kwargs)\u001B[0m\n",
       "\u001B[1;32m    362\u001B[0m exc\u001B[38;5;241m.\u001B[39m__context__ \u001B[38;5;241m=\u001B[39m \u001B[38;5;28;01mNone\u001B[39;00m\n",
       "\u001B[1;32m    363\u001B[0m exc\u001B[38;5;241m.\u001B[39m__cause__ \u001B[38;5;241m=\u001B[39m \u001B[38;5;28;01mNone\u001B[39;00m\n",
       "\u001B[0;32m--> 364\u001B[0m \u001B[38;5;28;01mraise\u001B[39;00m exc\n",
       "\n",
       "\u001B[0;31mExecutionError\u001B[0m: An error occurred while calling o2003.mount.\n",
       ": java.rmi.RemoteException: java.lang.IllegalArgumentException: requirement failed: Directory already mounted: /mnt/mount_s3; nested exception is: \n",
       "\tjava.lang.IllegalArgumentException: requirement failed: Directory already mounted: /mnt/mount_s3\n",
       "\tat com.databricks.backend.daemon.data.client.DbfsClient.send0(DbfsClient.scala:135)\n",
       "\tat com.databricks.backend.daemon.data.client.DbfsClient.sendIdempotent(DbfsClient.scala:69)\n",
       "\tat com.databricks.backend.daemon.dbutils.DBUtilsCore.createOrUpdateMount(DBUtilsCore.scala:1053)\n",
       "\tat com.databricks.backend.daemon.dbutils.DBUtilsCore.$anonfun$mount$1(DBUtilsCore.scala:1079)\n",
       "\tat com.databricks.logging.UsageLogging.$anonfun$recordOperation$1(UsageLogging.scala:560)\n",
       "\tat com.databricks.logging.UsageLogging.executeThunkAndCaptureResultTags$1(UsageLogging.scala:657)\n",
       "\tat com.databricks.logging.UsageLogging.$anonfun$recordOperationWithResultTags$4(UsageLogging.scala:678)\n",
       "\tat com.databricks.logging.UsageLogging.$anonfun$withAttributionContext$1(UsageLogging.scala:414)\n",
       "\tat scala.util.DynamicVariable.withValue(DynamicVariable.scala:62)\n",
       "\tat com.databricks.logging.AttributionContext$.withValue(AttributionContext.scala:158)\n",
       "\tat com.databricks.logging.UsageLogging.withAttributionContext(UsageLogging.scala:412)\n",
       "\tat com.databricks.logging.UsageLogging.withAttributionContext$(UsageLogging.scala:409)\n",
       "\tat com.databricks.backend.daemon.dbutils.FSUtils.withAttributionContext(DBUtilsCore.scala:71)\n",
       "\tat com.databricks.logging.UsageLogging.withAttributionTags(UsageLogging.scala:457)\n",
       "\tat com.databricks.logging.UsageLogging.withAttributionTags$(UsageLogging.scala:442)\n",
       "\tat com.databricks.backend.daemon.dbutils.FSUtils.withAttributionTags(DBUtilsCore.scala:71)\n",
       "\tat com.databricks.logging.UsageLogging.recordOperationWithResultTags(UsageLogging.scala:652)\n",
       "\tat com.databricks.logging.UsageLogging.recordOperationWithResultTags$(UsageLogging.scala:569)\n",
       "\tat com.databricks.backend.daemon.dbutils.FSUtils.recordOperationWithResultTags(DBUtilsCore.scala:71)\n",
       "\tat com.databricks.logging.UsageLogging.recordOperation(UsageLogging.scala:560)\n",
       "\tat com.databricks.logging.UsageLogging.recordOperation$(UsageLogging.scala:528)\n",
       "\tat com.databricks.backend.daemon.dbutils.FSUtils.recordOperation(DBUtilsCore.scala:71)\n",
       "\tat com.databricks.backend.daemon.dbutils.FSUtils.recordDbutilsFsOp(DBUtilsCore.scala:135)\n",
       "\tat com.databricks.backend.daemon.dbutils.DBUtilsCore.mount(DBUtilsCore.scala:1073)\n",
       "\tat sun.reflect.NativeMethodAccessorImpl.invoke0(Native Method)\n",
       "\tat sun.reflect.NativeMethodAccessorImpl.invoke(NativeMethodAccessorImpl.java:62)\n",
       "\tat sun.reflect.DelegatingMethodAccessorImpl.invoke(DelegatingMethodAccessorImpl.java:43)\n",
       "\tat java.lang.reflect.Method.invoke(Method.java:498)\n",
       "\tat py4j.reflection.MethodInvoker.invoke(MethodInvoker.java:244)\n",
       "\tat py4j.reflection.ReflectionEngine.invoke(ReflectionEngine.java:380)\n",
       "\tat py4j.Gateway.invoke(Gateway.java:306)\n",
       "\tat py4j.commands.AbstractCommand.invokeMethod(AbstractCommand.java:132)\n",
       "\tat py4j.commands.CallCommand.execute(CallCommand.java:79)\n",
       "\tat py4j.ClientServerConnection.waitForCommands(ClientServerConnection.java:195)\n",
       "\tat py4j.ClientServerConnection.run(ClientServerConnection.java:115)\n",
       "\tat java.lang.Thread.run(Thread.java:750)\n",
       "Caused by: java.lang.IllegalArgumentException: requirement failed: Directory already mounted: /mnt/mount_s3\n",
       "\tat scala.Predef$.require(Predef.scala:281)\n",
       "\tat com.databricks.backend.daemon.data.server.DefaultMetadataManager.$anonfun$insertMount$1(MetadataManager.scala:810)\n",
       "\tat com.databricks.backend.daemon.data.server.DefaultMetadataManager.$anonfun$modifyAndVerify$2(MetadataManager.scala:1192)\n",
       "\tat scala.runtime.java8.JFunction0$mcV$sp.apply(JFunction0$mcV$sp.java:23)\n",
       "\tat com.databricks.backend.daemon.data.server.DefaultMetadataManager.withRetries(MetadataManager.scala:965)\n",
       "\tat com.databricks.backend.daemon.data.server.DefaultMetadataManager.modifyAndVerify(MetadataManager.scala:1181)\n",
       "\tat com.databricks.backend.daemon.data.server.DefaultMetadataManager.insertMount(MetadataManager.scala:818)\n",
       "\tat com.databricks.backend.daemon.data.server.handler.MountHandler.receive(MountHandler.scala:128)\n",
       "\tat com.databricks.backend.daemon.data.server.handler.CEMountHandler.receive(MountHandler.scala:172)\n",
       "\tat com.databricks.backend.daemon.data.server.session.SessionContext.$anonfun$queryHandlers$1(SessionContext.scala:54)\n",
       "\tat com.databricks.backend.daemon.data.server.session.SessionContext.$anonfun$queryHandlers$1$adapted(SessionContext.scala:53)\n",
       "\tat scala.collection.immutable.List.foreach(List.scala:431)\n",
       "\tat com.databricks.backend.daemon.data.server.session.SessionContext.queryHandlers(SessionContext.scala:53)\n",
       "\tat com.databricks.backend.daemon.data.server.DbfsServerBackend$$anonfun$receive$4.$anonfun$applyOrElse$10(DbfsServerBackend.scala:462)\n",
       "\tat com.databricks.logging.AttributionContextTracing.$anonfun$withAttributionContext$1(AttributionContextTracing.scala:49)\n",
       "\tat com.databricks.logging.AttributionContext$.$anonfun$withValue$1(AttributionContext.scala:295)\n",
       "\tat scala.util.DynamicVariable.withValue(DynamicVariable.scala:62)\n",
       "\tat com.databricks.logging.AttributionContext$.withValue(AttributionContext.scala:291)\n",
       "\tat com.databricks.logging.AttributionContextTracing.withAttributionContext(AttributionContextTracing.scala:47)\n",
       "\tat com.databricks.logging.AttributionContextTracing.withAttributionContext$(AttributionContextTracing.scala:44)\n",
       "\tat com.databricks.rpc.ServerBackend.withAttributionContext(ServerBackend.scala:22)\n",
       "\tat com.databricks.logging.AttributionContextTracing.withAttributionTags(AttributionContextTracing.scala:96)\n",
       "\tat com.databricks.logging.AttributionContextTracing.withAttributionTags$(AttributionContextTracing.scala:77)\n",
       "\tat com.databricks.rpc.ServerBackend.withAttributionTags(ServerBackend.scala:22)\n",
       "\tat com.databricks.backend.daemon.data.server.DbfsServerBackend$$anonfun$receive$4.applyOrElse(DbfsServerBackend.scala:462)\n",
       "\tat com.databricks.backend.daemon.data.server.DbfsServerBackend$$anonfun$receive$4.applyOrElse(DbfsServerBackend.scala:355)\n",
       "\tat com.databricks.rpc.ServerBackend.$anonfun$internalReceive0$2(ServerBackend.scala:174)\n",
       "\tat com.databricks.rpc.ServerBackend$$anonfun$commonReceive$1.applyOrElse(ServerBackend.scala:200)\n",
       "\tat com.databricks.rpc.ServerBackend$$anonfun$commonReceive$1.applyOrElse(ServerBackend.scala:200)\n",
       "\tat com.databricks.rpc.ServerBackend.internalReceive0(ServerBackend.scala:171)\n",
       "\tat com.databricks.rpc.ServerBackend.$anonfun$internalReceive$1(ServerBackend.scala:147)\n",
       "\tat com.databricks.logging.UsageLogging.$anonfun$recordOperation$1(UsageLogging.scala:508)\n",
       "\tat com.databricks.logging.UsageLogging.executeThunkAndCaptureResultTags$1(UsageLogging.scala:613)\n",
       "\tat com.databricks.logging.UsageLogging.$anonfun$recordOperationWithResultTags$4(UsageLogging.scala:636)\n",
       "\tat com.databricks.logging.AttributionContextTracing.$anonfun$withAttributionContext$1(AttributionContextTracing.scala:49)\n",
       "\tat com.databricks.logging.AttributionContext$.$anonfun$withValue$1(AttributionContext.scala:295)\n",
       "\tat scala.util.DynamicVariable.withValue(DynamicVariable.scala:62)\n",
       "\tat com.databricks.logging.AttributionContext$.withValue(AttributionContext.scala:291)\n",
       "\tat com.databricks.logging.AttributionContextTracing.withAttributionContext(AttributionContextTracing.scala:47)\n",
       "\tat com.databricks.logging.AttributionContextTracing.withAttributionContext$(AttributionContextTracing.scala:44)\n",
       "\tat com.databricks.rpc.ServerBackend.withAttributionContext(ServerBackend.scala:22)\n",
       "\tat com.databricks.logging.AttributionContextTracing.withAttributionTags(AttributionContextTracing.scala:96)\n",
       "\tat com.databricks.logging.AttributionContextTracing.withAttributionTags$(AttributionContextTracing.scala:77)\n",
       "\tat com.databricks.rpc.ServerBackend.withAttributionTags(ServerBackend.scala:22)\n",
       "\tat com.databricks.logging.UsageLogging.recordOperationWithResultTags(UsageLogging.scala:608)\n",
       "\tat com.databricks.logging.UsageLogging.recordOperationWithResultTags$(UsageLogging.scala:517)\n",
       "\tat com.databricks.rpc.ServerBackend.recordOperationWithResultTags(ServerBackend.scala:22)\n",
       "\tat com.databricks.logging.UsageLogging.recordOperation(UsageLogging.scala:509)\n",
       "\tat com.databricks.logging.UsageLogging.recordOperation$(UsageLogging.scala:475)\n",
       "\tat com.databricks.rpc.ServerBackend.recordOperation(ServerBackend.scala:22)\n",
       "\tat com.databricks.rpc.ServerBackend.internalReceive(ServerBackend.scala:146)\n",
       "\tat com.databricks.rpc.JettyServer$RequestManager.handleRPC(JettyServer.scala:1032)\n",
       "\tat com.databricks.rpc.JettyServer$RequestManager.handleRequestAndRespond(JettyServer.scala:952)\n",
       "\tat com.databricks.rpc.JettyServer$RequestManager.$anonfun$handleHttp$6(JettyServer.scala:552)\n",
       "\tat com.databricks.rpc.JettyServer$RequestManager.$anonfun$handleHttp$6$adapted(JettyServer.scala:521)\n",
       "\tat com.databricks.logging.activity.ActivityContextFactory$.$anonfun$withActivityInternal$12(ActivityContextFactory.scala:766)\n",
       "\tat com.databricks.logging.AttributionContextTracing.$anonfun$withAttributionContext$1(AttributionContextTracing.scala:49)\n",
       "\tat com.databricks.logging.AttributionContext$.$anonfun$withValue$1(AttributionContext.scala:295)\n",
       "\tat scala.util.DynamicVariable.withValue(DynamicVariable.scala:62)\n",
       "\tat com.databricks.logging.AttributionContext$.withValue(AttributionContext.scala:291)\n",
       "\tat com.databricks.logging.AttributionContextTracing.withAttributionContext(AttributionContextTracing.scala:47)\n",
       "\tat com.databricks.logging.AttributionContextTracing.withAttributionContext$(AttributionContextTracing.scala:44)\n",
       "\tat com.databricks.logging.activity.ActivityContextFactory$.withAttributionContext(ActivityContextFactory.scala:46)\n",
       "\tat com.databricks.logging.activity.ActivityContextFactory$.$anonfun$withActivityInternal$2(ActivityContextFactory.scala:766)\n",
       "\tat com.databricks.context.integrity.IntegrityCheckContext$ThreadLocalStorage$.withValue(IntegrityCheckContext.scala:73)\n",
       "\tat com.databricks.logging.activity.ActivityContextFactory$.withActivityInternal(ActivityContextFactory.scala:729)\n",
       "\tat com.databricks.logging.activity.ActivityContextFactory$.withActivityInternal(ActivityContextFactory.scala:711)\n",
       "\tat com.databricks.logging.activity.ActivityContextFactory$.$anonfun$withServiceRequestActivity$16(ActivityContextFactory.scala:283)\n",
       "\tat com.databricks.logging.AttributionContextTracing.$anonfun$withAttributionContext$1(AttributionContextTracing.scala:49)\n",
       "\tat com.databricks.logging.AttributionContext$.$anonfun$withValue$1(AttributionContext.scala:295)\n",
       "\tat scala.util.DynamicVariable.withValue(DynamicVariable.scala:62)\n",
       "\tat com.databricks.logging.AttributionContext$.withValue(AttributionContext.scala:291)\n",
       "\tat com.databricks.logging.AttributionContextTracing.withAttributionContext(AttributionContextTracing.scala:47)\n",
       "\tat com.databricks.logging.AttributionContextTracing.withAttributionContext$(AttributionContextTracing.scala:44)\n",
       "\tat com.databricks.logging.activity.ActivityContextFactory$.withAttributionContext(ActivityContextFactory.scala:46)\n",
       "\tat com.databricks.logging.activity.ActivityContextFactory$.withServiceRequestActivity(ActivityContextFactory.scala:283)\n",
       "\tat com.databricks.rpc.JettyServer$RequestManager.handleHttp(JettyServer.scala:521)\n",
       "\tat com.databricks.rpc.JettyServer$RequestManager.doPost(JettyServer.scala:411)\n",
       "\tat javax.servlet.http.HttpServlet.service(HttpServlet.java:665)\n",
       "\tat com.databricks.rpc.HttpServletWithPatch.service(HttpServletWithPatch.scala:33)\n",
       "\tat javax.servlet.http.HttpServlet.service(HttpServlet.java:750)\n",
       "\tat org.eclipse.jetty.servlet.ServletHolder.handle(ServletHolder.java:799)\n",
       "\tat org.eclipse.jetty.servlet.ServletHandler.doHandle(ServletHandler.java:554)\n",
       "\tat org.eclipse.jetty.server.handler.ScopedHandler.nextScope(ScopedHandler.java:190)\n",
       "\tat org.eclipse.jetty.servlet.ServletHandler.doScope(ServletHandler.java:505)\n",
       "\tat org.eclipse.jetty.server.handler.ScopedHandler.handle(ScopedHandler.java:141)\n",
       "\tat org.eclipse.jetty.server.handler.HandlerWrapper.handle(HandlerWrapper.java:127)\n",
       "\tat org.eclipse.jetty.server.Server.handle(Server.java:516)\n",
       "\tat org.eclipse.jetty.server.HttpChannel.lambda$handle$1(HttpChannel.java:487)\n",
       "\tat org.eclipse.jetty.server.HttpChannel.dispatch(HttpChannel.java:732)\n",
       "\tat org.eclipse.jetty.server.HttpChannel.handle(HttpChannel.java:479)\n",
       "\tat org.eclipse.jetty.server.HttpConnection.onFillable(HttpConnection.java:277)\n",
       "\tat org.eclipse.jetty.io.AbstractConnection$ReadCallback.succeeded(AbstractConnection.java:311)\n",
       "\tat org.eclipse.jetty.io.FillInterest.fillable(FillInterest.java:105)\n",
       "\tat org.eclipse.jetty.io.ChannelEndPoint$1.run(ChannelEndPoint.java:104)\n",
       "\tat org.eclipse.jetty.util.thread.strategy.EatWhatYouKill.runTask(EatWhatYouKill.java:338)\n",
       "\tat org.eclipse.jetty.util.thread.strategy.EatWhatYouKill.doProduce(EatWhatYouKill.java:315)\n",
       "\tat org.eclipse.jetty.util.thread.strategy.EatWhatYouKill.tryProduce(EatWhatYouKill.java:173)\n",
       "\tat org.eclipse.jetty.util.thread.strategy.EatWhatYouKill.run(EatWhatYouKill.java:131)\n",
       "\tat org.eclipse.jetty.util.thread.ReservedThreadExecutor$ReservedThread.run(ReservedThreadExecutor.java:409)\n",
       "\tat com.databricks.rpc.InstrumentedQueuedThreadPool$$anon$1.$anonfun$run$2(InstrumentedQueuedThreadPool.scala:110)\n",
       "\tat scala.runtime.java8.JFunction0$mcV$sp.apply(JFunction0$mcV$sp.java:23)\n",
       "\tat com.databricks.logging.AttributionContextTracing.$anonfun$withAttributionContext$1(AttributionContextTracing.scala:49)\n",
       "\tat com.databricks.logging.AttributionContext$.$anonfun$withValue$1(AttributionContext.scala:295)\n",
       "\tat scala.util.DynamicVariable.withValue(DynamicVariable.scala:62)\n",
       "\tat com.databricks.logging.AttributionContext$.withValue(AttributionContext.scala:291)\n",
       "\tat com.databricks.logging.AttributionContextTracing.withAttributionContext(AttributionContextTracing.scala:47)\n",
       "\tat com.databricks.logging.AttributionContextTracing.withAttributionContext$(AttributionContextTracing.scala:44)\n",
       "\tat com.databricks.rpc.InstrumentedQueuedThreadPool.withAttributionContext(InstrumentedQueuedThreadPool.scala:45)\n",
       "\tat com.databricks.rpc.InstrumentedQueuedThreadPool$$anon$1.$anonfun$run$1(InstrumentedQueuedThreadPool.scala:110)\n",
       "\tat scala.runtime.java8.JFunction0$mcV$sp.apply(JFunction0$mcV$sp.java:23)\n",
       "\tat com.databricks.instrumentation.QueuedThreadPoolInstrumenter.trackActiveThreads(QueuedThreadPoolInstrumenter.scala:126)\n",
       "\tat com.databricks.instrumentation.QueuedThreadPoolInstrumenter.trackActiveThreads$(QueuedThreadPoolInstrumenter.scala:123)\n",
       "\tat com.databricks.rpc.InstrumentedQueuedThreadPool.trackActiveThreads(InstrumentedQueuedThreadPool.scala:45)\n",
       "\tat com.databricks.rpc.InstrumentedQueuedThreadPool$$anon$1.run(InstrumentedQueuedThreadPool.scala:92)\n",
       "\tat org.eclipse.jetty.util.thread.QueuedThreadPool.runJob(QueuedThreadPool.java:883)\n",
       "\tat org.eclipse.jetty.util.thread.QueuedThreadPool$Runner.run(QueuedThreadPool.java:1034)\n",
       "\tat java.lang.Thread.run(Thread.java:840)\n"
      ]
     },
     "metadata": {
      "application/vnd.databricks.v1+output": {
       "arguments": {},
       "data": "\u001B[0;31m---------------------------------------------------------------------------\u001B[0m\n\u001B[0;31mExecutionError\u001B[0m                            Traceback (most recent call last)\nFile \u001B[0;32m<command-4213482093363824>:1\u001B[0m\n\u001B[0;32m----> 1\u001B[0m \u001B[43mdbutils\u001B[49m\u001B[38;5;241;43m.\u001B[39;49m\u001B[43mfs\u001B[49m\u001B[38;5;241;43m.\u001B[39;49m\u001B[43mmount\u001B[49m\u001B[43m(\u001B[49m\n\u001B[1;32m      2\u001B[0m \u001B[43m    \u001B[49m\u001B[43msource\u001B[49m\u001B[38;5;241;43m=\u001B[39;49m\u001B[43mSOURCE_URL\u001B[49m\u001B[43m,\u001B[49m\n\u001B[1;32m      3\u001B[0m \u001B[43m    \u001B[49m\u001B[43mmount_point\u001B[49m\u001B[38;5;241;43m=\u001B[39;49m\u001B[43mMOUNT_NAME\u001B[49m\u001B[43m,\u001B[49m\n\u001B[1;32m      4\u001B[0m \u001B[43m    \u001B[49m\u001B[43mextra_configs\u001B[49m\u001B[38;5;241;43m=\u001B[39;49m\u001B[43m{\u001B[49m\n\u001B[1;32m      5\u001B[0m \u001B[43m        \u001B[49m\u001B[38;5;124;43m\"\u001B[39;49m\u001B[38;5;124;43mfs.s3a.access.key\u001B[39;49m\u001B[38;5;124;43m\"\u001B[39;49m\u001B[43m:\u001B[49m\u001B[43m \u001B[49m\u001B[43mACCESS_KEY\u001B[49m\u001B[43m,\u001B[49m\n\u001B[1;32m      6\u001B[0m \u001B[43m        \u001B[49m\u001B[38;5;124;43m\"\u001B[39;49m\u001B[38;5;124;43mfs.s3a.secret.key\u001B[39;49m\u001B[38;5;124;43m\"\u001B[39;49m\u001B[43m:\u001B[49m\u001B[43m \u001B[49m\u001B[43mSECRET_KEY\u001B[49m\n\u001B[1;32m      7\u001B[0m \u001B[43m    \u001B[49m\u001B[43m}\u001B[49m\n\u001B[1;32m      8\u001B[0m \u001B[43m)\u001B[49m\n\nFile \u001B[0;32m/databricks/python_shell/dbruntime/dbutils.py:364\u001B[0m, in \u001B[0;36mDBUtils.FSHandler.prettify_exception_message.<locals>.f_with_exception_handling\u001B[0;34m(*args, **kwargs)\u001B[0m\n\u001B[1;32m    362\u001B[0m exc\u001B[38;5;241m.\u001B[39m__context__ \u001B[38;5;241m=\u001B[39m \u001B[38;5;28;01mNone\u001B[39;00m\n\u001B[1;32m    363\u001B[0m exc\u001B[38;5;241m.\u001B[39m__cause__ \u001B[38;5;241m=\u001B[39m \u001B[38;5;28;01mNone\u001B[39;00m\n\u001B[0;32m--> 364\u001B[0m \u001B[38;5;28;01mraise\u001B[39;00m exc\n\n\u001B[0;31mExecutionError\u001B[0m: An error occurred while calling o2003.mount.\n: java.rmi.RemoteException: java.lang.IllegalArgumentException: requirement failed: Directory already mounted: /mnt/mount_s3; nested exception is: \n\tjava.lang.IllegalArgumentException: requirement failed: Directory already mounted: /mnt/mount_s3\n\tat com.databricks.backend.daemon.data.client.DbfsClient.send0(DbfsClient.scala:135)\n\tat com.databricks.backend.daemon.data.client.DbfsClient.sendIdempotent(DbfsClient.scala:69)\n\tat com.databricks.backend.daemon.dbutils.DBUtilsCore.createOrUpdateMount(DBUtilsCore.scala:1053)\n\tat com.databricks.backend.daemon.dbutils.DBUtilsCore.$anonfun$mount$1(DBUtilsCore.scala:1079)\n\tat com.databricks.logging.UsageLogging.$anonfun$recordOperation$1(UsageLogging.scala:560)\n\tat com.databricks.logging.UsageLogging.executeThunkAndCaptureResultTags$1(UsageLogging.scala:657)\n\tat com.databricks.logging.UsageLogging.$anonfun$recordOperationWithResultTags$4(UsageLogging.scala:678)\n\tat com.databricks.logging.UsageLogging.$anonfun$withAttributionContext$1(UsageLogging.scala:414)\n\tat scala.util.DynamicVariable.withValue(DynamicVariable.scala:62)\n\tat com.databricks.logging.AttributionContext$.withValue(AttributionContext.scala:158)\n\tat com.databricks.logging.UsageLogging.withAttributionContext(UsageLogging.scala:412)\n\tat com.databricks.logging.UsageLogging.withAttributionContext$(UsageLogging.scala:409)\n\tat com.databricks.backend.daemon.dbutils.FSUtils.withAttributionContext(DBUtilsCore.scala:71)\n\tat com.databricks.logging.UsageLogging.withAttributionTags(UsageLogging.scala:457)\n\tat com.databricks.logging.UsageLogging.withAttributionTags$(UsageLogging.scala:442)\n\tat com.databricks.backend.daemon.dbutils.FSUtils.withAttributionTags(DBUtilsCore.scala:71)\n\tat com.databricks.logging.UsageLogging.recordOperationWithResultTags(UsageLogging.scala:652)\n\tat com.databricks.logging.UsageLogging.recordOperationWithResultTags$(UsageLogging.scala:569)\n\tat com.databricks.backend.daemon.dbutils.FSUtils.recordOperationWithResultTags(DBUtilsCore.scala:71)\n\tat com.databricks.logging.UsageLogging.recordOperation(UsageLogging.scala:560)\n\tat com.databricks.logging.UsageLogging.recordOperation$(UsageLogging.scala:528)\n\tat com.databricks.backend.daemon.dbutils.FSUtils.recordOperation(DBUtilsCore.scala:71)\n\tat com.databricks.backend.daemon.dbutils.FSUtils.recordDbutilsFsOp(DBUtilsCore.scala:135)\n\tat com.databricks.backend.daemon.dbutils.DBUtilsCore.mount(DBUtilsCore.scala:1073)\n\tat sun.reflect.NativeMethodAccessorImpl.invoke0(Native Method)\n\tat sun.reflect.NativeMethodAccessorImpl.invoke(NativeMethodAccessorImpl.java:62)\n\tat sun.reflect.DelegatingMethodAccessorImpl.invoke(DelegatingMethodAccessorImpl.java:43)\n\tat java.lang.reflect.Method.invoke(Method.java:498)\n\tat py4j.reflection.MethodInvoker.invoke(MethodInvoker.java:244)\n\tat py4j.reflection.ReflectionEngine.invoke(ReflectionEngine.java:380)\n\tat py4j.Gateway.invoke(Gateway.java:306)\n\tat py4j.commands.AbstractCommand.invokeMethod(AbstractCommand.java:132)\n\tat py4j.commands.CallCommand.execute(CallCommand.java:79)\n\tat py4j.ClientServerConnection.waitForCommands(ClientServerConnection.java:195)\n\tat py4j.ClientServerConnection.run(ClientServerConnection.java:115)\n\tat java.lang.Thread.run(Thread.java:750)\nCaused by: java.lang.IllegalArgumentException: requirement failed: Directory already mounted: /mnt/mount_s3\n\tat scala.Predef$.require(Predef.scala:281)\n\tat com.databricks.backend.daemon.data.server.DefaultMetadataManager.$anonfun$insertMount$1(MetadataManager.scala:810)\n\tat com.databricks.backend.daemon.data.server.DefaultMetadataManager.$anonfun$modifyAndVerify$2(MetadataManager.scala:1192)\n\tat scala.runtime.java8.JFunction0$mcV$sp.apply(JFunction0$mcV$sp.java:23)\n\tat com.databricks.backend.daemon.data.server.DefaultMetadataManager.withRetries(MetadataManager.scala:965)\n\tat com.databricks.backend.daemon.data.server.DefaultMetadataManager.modifyAndVerify(MetadataManager.scala:1181)\n\tat com.databricks.backend.daemon.data.server.DefaultMetadataManager.insertMount(MetadataManager.scala:818)\n\tat com.databricks.backend.daemon.data.server.handler.MountHandler.receive(MountHandler.scala:128)\n\tat com.databricks.backend.daemon.data.server.handler.CEMountHandler.receive(MountHandler.scala:172)\n\tat com.databricks.backend.daemon.data.server.session.SessionContext.$anonfun$queryHandlers$1(SessionContext.scala:54)\n\tat com.databricks.backend.daemon.data.server.session.SessionContext.$anonfun$queryHandlers$1$adapted(SessionContext.scala:53)\n\tat scala.collection.immutable.List.foreach(List.scala:431)\n\tat com.databricks.backend.daemon.data.server.session.SessionContext.queryHandlers(SessionContext.scala:53)\n\tat com.databricks.backend.daemon.data.server.DbfsServerBackend$$anonfun$receive$4.$anonfun$applyOrElse$10(DbfsServerBackend.scala:462)\n\tat com.databricks.logging.AttributionContextTracing.$anonfun$withAttributionContext$1(AttributionContextTracing.scala:49)\n\tat com.databricks.logging.AttributionContext$.$anonfun$withValue$1(AttributionContext.scala:295)\n\tat scala.util.DynamicVariable.withValue(DynamicVariable.scala:62)\n\tat com.databricks.logging.AttributionContext$.withValue(AttributionContext.scala:291)\n\tat com.databricks.logging.AttributionContextTracing.withAttributionContext(AttributionContextTracing.scala:47)\n\tat com.databricks.logging.AttributionContextTracing.withAttributionContext$(AttributionContextTracing.scala:44)\n\tat com.databricks.rpc.ServerBackend.withAttributionContext(ServerBackend.scala:22)\n\tat com.databricks.logging.AttributionContextTracing.withAttributionTags(AttributionContextTracing.scala:96)\n\tat com.databricks.logging.AttributionContextTracing.withAttributionTags$(AttributionContextTracing.scala:77)\n\tat com.databricks.rpc.ServerBackend.withAttributionTags(ServerBackend.scala:22)\n\tat com.databricks.backend.daemon.data.server.DbfsServerBackend$$anonfun$receive$4.applyOrElse(DbfsServerBackend.scala:462)\n\tat com.databricks.backend.daemon.data.server.DbfsServerBackend$$anonfun$receive$4.applyOrElse(DbfsServerBackend.scala:355)\n\tat com.databricks.rpc.ServerBackend.$anonfun$internalReceive0$2(ServerBackend.scala:174)\n\tat com.databricks.rpc.ServerBackend$$anonfun$commonReceive$1.applyOrElse(ServerBackend.scala:200)\n\tat com.databricks.rpc.ServerBackend$$anonfun$commonReceive$1.applyOrElse(ServerBackend.scala:200)\n\tat com.databricks.rpc.ServerBackend.internalReceive0(ServerBackend.scala:171)\n\tat com.databricks.rpc.ServerBackend.$anonfun$internalReceive$1(ServerBackend.scala:147)\n\tat com.databricks.logging.UsageLogging.$anonfun$recordOperation$1(UsageLogging.scala:508)\n\tat com.databricks.logging.UsageLogging.executeThunkAndCaptureResultTags$1(UsageLogging.scala:613)\n\tat com.databricks.logging.UsageLogging.$anonfun$recordOperationWithResultTags$4(UsageLogging.scala:636)\n\tat com.databricks.logging.AttributionContextTracing.$anonfun$withAttributionContext$1(AttributionContextTracing.scala:49)\n\tat com.databricks.logging.AttributionContext$.$anonfun$withValue$1(AttributionContext.scala:295)\n\tat scala.util.DynamicVariable.withValue(DynamicVariable.scala:62)\n\tat com.databricks.logging.AttributionContext$.withValue(AttributionContext.scala:291)\n\tat com.databricks.logging.AttributionContextTracing.withAttributionContext(AttributionContextTracing.scala:47)\n\tat com.databricks.logging.AttributionContextTracing.withAttributionContext$(AttributionContextTracing.scala:44)\n\tat com.databricks.rpc.ServerBackend.withAttributionContext(ServerBackend.scala:22)\n\tat com.databricks.logging.AttributionContextTracing.withAttributionTags(AttributionContextTracing.scala:96)\n\tat com.databricks.logging.AttributionContextTracing.withAttributionTags$(AttributionContextTracing.scala:77)\n\tat com.databricks.rpc.ServerBackend.withAttributionTags(ServerBackend.scala:22)\n\tat com.databricks.logging.UsageLogging.recordOperationWithResultTags(UsageLogging.scala:608)\n\tat com.databricks.logging.UsageLogging.recordOperationWithResultTags$(UsageLogging.scala:517)\n\tat com.databricks.rpc.ServerBackend.recordOperationWithResultTags(ServerBackend.scala:22)\n\tat com.databricks.logging.UsageLogging.recordOperation(UsageLogging.scala:509)\n\tat com.databricks.logging.UsageLogging.recordOperation$(UsageLogging.scala:475)\n\tat com.databricks.rpc.ServerBackend.recordOperation(ServerBackend.scala:22)\n\tat com.databricks.rpc.ServerBackend.internalReceive(ServerBackend.scala:146)\n\tat com.databricks.rpc.JettyServer$RequestManager.handleRPC(JettyServer.scala:1032)\n\tat com.databricks.rpc.JettyServer$RequestManager.handleRequestAndRespond(JettyServer.scala:952)\n\tat com.databricks.rpc.JettyServer$RequestManager.$anonfun$handleHttp$6(JettyServer.scala:552)\n\tat com.databricks.rpc.JettyServer$RequestManager.$anonfun$handleHttp$6$adapted(JettyServer.scala:521)\n\tat com.databricks.logging.activity.ActivityContextFactory$.$anonfun$withActivityInternal$12(ActivityContextFactory.scala:766)\n\tat com.databricks.logging.AttributionContextTracing.$anonfun$withAttributionContext$1(AttributionContextTracing.scala:49)\n\tat com.databricks.logging.AttributionContext$.$anonfun$withValue$1(AttributionContext.scala:295)\n\tat scala.util.DynamicVariable.withValue(DynamicVariable.scala:62)\n\tat com.databricks.logging.AttributionContext$.withValue(AttributionContext.scala:291)\n\tat com.databricks.logging.AttributionContextTracing.withAttributionContext(AttributionContextTracing.scala:47)\n\tat com.databricks.logging.AttributionContextTracing.withAttributionContext$(AttributionContextTracing.scala:44)\n\tat com.databricks.logging.activity.ActivityContextFactory$.withAttributionContext(ActivityContextFactory.scala:46)\n\tat com.databricks.logging.activity.ActivityContextFactory$.$anonfun$withActivityInternal$2(ActivityContextFactory.scala:766)\n\tat com.databricks.context.integrity.IntegrityCheckContext$ThreadLocalStorage$.withValue(IntegrityCheckContext.scala:73)\n\tat com.databricks.logging.activity.ActivityContextFactory$.withActivityInternal(ActivityContextFactory.scala:729)\n\tat com.databricks.logging.activity.ActivityContextFactory$.withActivityInternal(ActivityContextFactory.scala:711)\n\tat com.databricks.logging.activity.ActivityContextFactory$.$anonfun$withServiceRequestActivity$16(ActivityContextFactory.scala:283)\n\tat com.databricks.logging.AttributionContextTracing.$anonfun$withAttributionContext$1(AttributionContextTracing.scala:49)\n\tat com.databricks.logging.AttributionContext$.$anonfun$withValue$1(AttributionContext.scala:295)\n\tat scala.util.DynamicVariable.withValue(DynamicVariable.scala:62)\n\tat com.databricks.logging.AttributionContext$.withValue(AttributionContext.scala:291)\n\tat com.databricks.logging.AttributionContextTracing.withAttributionContext(AttributionContextTracing.scala:47)\n\tat com.databricks.logging.AttributionContextTracing.withAttributionContext$(AttributionContextTracing.scala:44)\n\tat com.databricks.logging.activity.ActivityContextFactory$.withAttributionContext(ActivityContextFactory.scala:46)\n\tat com.databricks.logging.activity.ActivityContextFactory$.withServiceRequestActivity(ActivityContextFactory.scala:283)\n\tat com.databricks.rpc.JettyServer$RequestManager.handleHttp(JettyServer.scala:521)\n\tat com.databricks.rpc.JettyServer$RequestManager.doPost(JettyServer.scala:411)\n\tat javax.servlet.http.HttpServlet.service(HttpServlet.java:665)\n\tat com.databricks.rpc.HttpServletWithPatch.service(HttpServletWithPatch.scala:33)\n\tat javax.servlet.http.HttpServlet.service(HttpServlet.java:750)\n\tat org.eclipse.jetty.servlet.ServletHolder.handle(ServletHolder.java:799)\n\tat org.eclipse.jetty.servlet.ServletHandler.doHandle(ServletHandler.java:554)\n\tat org.eclipse.jetty.server.handler.ScopedHandler.nextScope(ScopedHandler.java:190)\n\tat org.eclipse.jetty.servlet.ServletHandler.doScope(ServletHandler.java:505)\n\tat org.eclipse.jetty.server.handler.ScopedHandler.handle(ScopedHandler.java:141)\n\tat org.eclipse.jetty.server.handler.HandlerWrapper.handle(HandlerWrapper.java:127)\n\tat org.eclipse.jetty.server.Server.handle(Server.java:516)\n\tat org.eclipse.jetty.server.HttpChannel.lambda$handle$1(HttpChannel.java:487)\n\tat org.eclipse.jetty.server.HttpChannel.dispatch(HttpChannel.java:732)\n\tat org.eclipse.jetty.server.HttpChannel.handle(HttpChannel.java:479)\n\tat org.eclipse.jetty.server.HttpConnection.onFillable(HttpConnection.java:277)\n\tat org.eclipse.jetty.io.AbstractConnection$ReadCallback.succeeded(AbstractConnection.java:311)\n\tat org.eclipse.jetty.io.FillInterest.fillable(FillInterest.java:105)\n\tat org.eclipse.jetty.io.ChannelEndPoint$1.run(ChannelEndPoint.java:104)\n\tat org.eclipse.jetty.util.thread.strategy.EatWhatYouKill.runTask(EatWhatYouKill.java:338)\n\tat org.eclipse.jetty.util.thread.strategy.EatWhatYouKill.doProduce(EatWhatYouKill.java:315)\n\tat org.eclipse.jetty.util.thread.strategy.EatWhatYouKill.tryProduce(EatWhatYouKill.java:173)\n\tat org.eclipse.jetty.util.thread.strategy.EatWhatYouKill.run(EatWhatYouKill.java:131)\n\tat org.eclipse.jetty.util.thread.ReservedThreadExecutor$ReservedThread.run(ReservedThreadExecutor.java:409)\n\tat com.databricks.rpc.InstrumentedQueuedThreadPool$$anon$1.$anonfun$run$2(InstrumentedQueuedThreadPool.scala:110)\n\tat scala.runtime.java8.JFunction0$mcV$sp.apply(JFunction0$mcV$sp.java:23)\n\tat com.databricks.logging.AttributionContextTracing.$anonfun$withAttributionContext$1(AttributionContextTracing.scala:49)\n\tat com.databricks.logging.AttributionContext$.$anonfun$withValue$1(AttributionContext.scala:295)\n\tat scala.util.DynamicVariable.withValue(DynamicVariable.scala:62)\n\tat com.databricks.logging.AttributionContext$.withValue(AttributionContext.scala:291)\n\tat com.databricks.logging.AttributionContextTracing.withAttributionContext(AttributionContextTracing.scala:47)\n\tat com.databricks.logging.AttributionContextTracing.withAttributionContext$(AttributionContextTracing.scala:44)\n\tat com.databricks.rpc.InstrumentedQueuedThreadPool.withAttributionContext(InstrumentedQueuedThreadPool.scala:45)\n\tat com.databricks.rpc.InstrumentedQueuedThreadPool$$anon$1.$anonfun$run$1(InstrumentedQueuedThreadPool.scala:110)\n\tat scala.runtime.java8.JFunction0$mcV$sp.apply(JFunction0$mcV$sp.java:23)\n\tat com.databricks.instrumentation.QueuedThreadPoolInstrumenter.trackActiveThreads(QueuedThreadPoolInstrumenter.scala:126)\n\tat com.databricks.instrumentation.QueuedThreadPoolInstrumenter.trackActiveThreads$(QueuedThreadPoolInstrumenter.scala:123)\n\tat com.databricks.rpc.InstrumentedQueuedThreadPool.trackActiveThreads(InstrumentedQueuedThreadPool.scala:45)\n\tat com.databricks.rpc.InstrumentedQueuedThreadPool$$anon$1.run(InstrumentedQueuedThreadPool.scala:92)\n\tat org.eclipse.jetty.util.thread.QueuedThreadPool.runJob(QueuedThreadPool.java:883)\n\tat org.eclipse.jetty.util.thread.QueuedThreadPool$Runner.run(QueuedThreadPool.java:1034)\n\tat java.lang.Thread.run(Thread.java:840)\n",
       "errorSummary": "java.rmi.RemoteException: java.lang.IllegalArgumentException: requirement failed: Directory already mounted: /mnt/mount_s3; nested exception is: ",
       "errorTraceType": "ansi",
       "metadata": {},
       "type": "ipynbError"
      }
     },
     "output_type": "display_data"
    }
   ],
   "source": [
    "dbutils.fs.mount(\n",
    "    source=SOURCE_URL,\n",
    "    mount_point=MOUNT_NAME,\n",
    "    extra_configs={\n",
    "        \"fs.s3a.access.key\": ACCESS_KEY,\n",
    "        \"fs.s3a.secret.key\": SECRET_KEY\n",
    "    }\n",
    ")"
   ]
  },
  {
   "cell_type": "code",
   "execution_count": 0,
   "metadata": {
    "application/vnd.databricks.v1+cell": {
     "cellMetadata": {
      "byteLimit": 2048000,
      "rowLimit": 10000
     },
     "inputWidgets": {},
     "nuid": "44e55c64-354e-4510-84ee-cb75c7d8984d",
     "showTitle": false,
     "tableResultSettingsMap": {},
     "title": ""
    }
   },
   "outputs": [
    {
     "output_type": "display_data",
     "data": {
      "text/html": [
       "<style scoped>\n",
       "  .table-result-container {\n",
       "    max-height: 300px;\n",
       "    overflow: auto;\n",
       "  }\n",
       "  table, th, td {\n",
       "    border: 1px solid black;\n",
       "    border-collapse: collapse;\n",
       "  }\n",
       "  th, td {\n",
       "    padding: 5px;\n",
       "  }\n",
       "  th {\n",
       "    text-align: left;\n",
       "  }\n",
       "</style><div class='table-result-container'><table class='table-result'><thead style='background-color: white'><tr><th>path</th><th>name</th><th>size</th><th>modificationTime</th></tr></thead><tbody><tr><td>dbfs:/mnt/mount_s3/Ball_By_Ball.csv</td><td>Ball_By_Ball.csv</td><td>25099132</td><td>1736308179000</td></tr><tr><td>dbfs:/mnt/mount_s3/Match.csv</td><td>Match.csv</td><td>113358</td><td>1736308181000</td></tr><tr><td>dbfs:/mnt/mount_s3/Player.csv</td><td>Player.csv</td><td>34614</td><td>1736308179000</td></tr><tr><td>dbfs:/mnt/mount_s3/Player_match.csv</td><td>Player_match.csv</td><td>2664692</td><td>1736308180000</td></tr><tr><td>dbfs:/mnt/mount_s3/Team.csv</td><td>Team.csv</td><td>343</td><td>1736308179000</td></tr></tbody></table></div>"
      ]
     },
     "metadata": {
      "application/vnd.databricks.v1+output": {
       "addedWidgets": {},
       "aggData": [],
       "aggError": "",
       "aggOverflow": false,
       "aggSchema": [],
       "aggSeriesLimitReached": false,
       "aggType": "",
       "arguments": {},
       "columnCustomDisplayInfos": {},
       "data": [
        [
         "dbfs:/mnt/mount_s3/Ball_By_Ball.csv",
         "Ball_By_Ball.csv",
         25099132,
         1736308179000
        ],
        [
         "dbfs:/mnt/mount_s3/Match.csv",
         "Match.csv",
         113358,
         1736308181000
        ],
        [
         "dbfs:/mnt/mount_s3/Player.csv",
         "Player.csv",
         34614,
         1736308179000
        ],
        [
         "dbfs:/mnt/mount_s3/Player_match.csv",
         "Player_match.csv",
         2664692,
         1736308180000
        ],
        [
         "dbfs:/mnt/mount_s3/Team.csv",
         "Team.csv",
         343,
         1736308179000
        ]
       ],
       "datasetInfos": [],
       "dbfsResultPath": null,
       "isJsonSchema": true,
       "metadata": {
        "isDbfsCommandResult": false
       },
       "overflow": false,
       "plotOptions": {
        "customPlotOptions": {},
        "displayType": "table",
        "pivotAggregation": null,
        "pivotColumns": null,
        "xColumns": null,
        "yColumns": null
       },
       "removedWidgets": [],
       "schema": [
        {
         "metadata": "{}",
         "name": "path",
         "type": "\"string\""
        },
        {
         "metadata": "{}",
         "name": "name",
         "type": "\"string\""
        },
        {
         "metadata": "{}",
         "name": "size",
         "type": "\"long\""
        },
        {
         "metadata": "{}",
         "name": "modificationTime",
         "type": "\"long\""
        }
       ],
       "type": "table"
      }
     },
     "output_type": "display_data"
    }
   ],
   "source": [
    "%fs ls 'mnt/mount_s3'"
   ]
  },
  {
   "cell_type": "code",
   "execution_count": 0,
   "metadata": {
    "application/vnd.databricks.v1+cell": {
     "cellMetadata": {
      "byteLimit": 2048000,
      "rowLimit": 10000
     },
     "inputWidgets": {},
     "nuid": "d6d545b0-38c9-4c1d-bbbd-352617c10f02",
     "showTitle": false,
     "tableResultSettingsMap": {},
     "title": ""
    }
   },
   "outputs": [],
   "source": [
    "from pyspark.sql import SparkSession\n",
    "spark = SparkSession.builder.appName(\"IPL DATA ANALYSIS\").getOrCreate()\n"
   ]
  },
  {
   "cell_type": "code",
   "execution_count": 0,
   "metadata": {
    "application/vnd.databricks.v1+cell": {
     "cellMetadata": {
      "byteLimit": 2048000,
      "rowLimit": 10000
     },
     "inputWidgets": {},
     "nuid": "c197505c-9536-4284-98e1-b22c6cb8b48c",
     "showTitle": false,
     "tableResultSettingsMap": {},
     "title": ""
    }
   },
   "outputs": [],
   "source": [
    "ball_by_ball_schema = StructType([\n",
    "    StructField(\"match_id\", IntegerType(), True),\n",
    "    StructField(\"over_id\", IntegerType(), True),\n",
    "    StructField(\"ball_id\", IntegerType(), True),\n",
    "    StructField(\"innings_no\", IntegerType(), True),\n",
    "    StructField(\"team_batting\", StringType(), True),\n",
    "    StructField(\"team_bowling\", StringType(), True),\n",
    "    StructField(\"striker_batting_position\", IntegerType(), True),\n",
    "    StructField(\"extra_type\", StringType(), True),\n",
    "    StructField(\"runs_scored\", IntegerType(), True),\n",
    "    StructField(\"extra_runs\", IntegerType(), True),\n",
    "    StructField(\"wides\", IntegerType(), True),\n",
    "    StructField(\"legbyes\", IntegerType(), True),\n",
    "    StructField(\"byes\", IntegerType(), True),\n",
    "    StructField(\"noballs\", IntegerType(), True),\n",
    "    StructField(\"penalty\", IntegerType(), True),\n",
    "    StructField(\"bowler_extras\", IntegerType(), True),\n",
    "    StructField(\"out_type\", StringType(), True),\n",
    "    StructField(\"caught\", BooleanType(), True),\n",
    "    StructField(\"bowled\", BooleanType(), True),\n",
    "    StructField(\"run_out\", BooleanType(), True),\n",
    "    StructField(\"lbw\", BooleanType(), True),\n",
    "    StructField(\"retired_hurt\", BooleanType(), True),\n",
    "    StructField(\"stumped\", BooleanType(), True),\n",
    "    StructField(\"caught_and_bowled\", BooleanType(), True),\n",
    "    StructField(\"hit_wicket\", BooleanType(), True),\n",
    "    StructField(\"obstructingfeild\", BooleanType(), True),\n",
    "    StructField(\"bowler_wicket\", BooleanType(), True),\n",
    "    StructField(\"match_date\", DateType(), True),\n",
    "    StructField(\"season\", IntegerType(), True),\n",
    "    StructField(\"striker\", IntegerType(), True),\n",
    "    StructField(\"non_striker\", IntegerType(), True),\n",
    "    StructField(\"bowler\", IntegerType(), True),\n",
    "    StructField(\"player_out\", IntegerType(), True),\n",
    "    StructField(\"fielders\", IntegerType(), True),\n",
    "    StructField(\"striker_match_sk\", IntegerType(), True),\n",
    "    StructField(\"strikersk\", IntegerType(), True),\n",
    "    StructField(\"nonstriker_match_sk\", IntegerType(), True),\n",
    "    StructField(\"nonstriker_sk\", IntegerType(), True),\n",
    "    StructField(\"fielder_match_sk\", IntegerType(), True),\n",
    "    StructField(\"fielder_sk\", IntegerType(), True),\n",
    "    StructField(\"bowler_match_sk\", IntegerType(), True),\n",
    "    StructField(\"bowler_sk\", IntegerType(), True),\n",
    "    StructField(\"playerout_match_sk\", IntegerType(), True),\n",
    "    StructField(\"battingteam_sk\", IntegerType(), True),\n",
    "    StructField(\"bowlingteam_sk\", IntegerType(), True),\n",
    "    StructField(\"keeper_catch\", BooleanType(), True),\n",
    "    StructField(\"player_out_sk\", IntegerType(), True),\n",
    "    StructField(\"matchdatesk\", DateType(), True)\n",
    "])"
   ]
  },
  {
   "cell_type": "code",
   "execution_count": 0,
   "metadata": {
    "application/vnd.databricks.v1+cell": {
     "cellMetadata": {
      "byteLimit": 2048000,
      "rowLimit": 10000
     },
     "inputWidgets": {},
     "nuid": "124f2e8b-0e12-442c-9781-4d1f8f383bce",
     "showTitle": false,
     "tableResultSettingsMap": {},
     "title": ""
    }
   },
   "outputs": [],
   "source": [
    "match_schema= StructType([\n",
    "    StructField(\"match_sk\", IntegerType(), True),\n",
    "    StructField(\"match_id\", IntegerType(), True),\n",
    "    StructField(\"team1\", StringType(), True),\n",
    "    StructField(\"team2\", StringType(), True),\n",
    "    StructField(\"match_date\", DateType(), True),\n",
    "    StructField(\"season_year\", IntegerType(), True),\n",
    "    StructField(\"venue_name\", StringType(), True),\n",
    "    StructField(\"city_name\", StringType(), True),\n",
    "    StructField(\"country_name\", StringType(), True),\n",
    "    StructField(\"toss_winner\", StringType(), True),\n",
    "    StructField(\"match_winner\", StringType(), True),\n",
    "    StructField(\"toss_name\", StringType(), True),\n",
    "    StructField(\"win_type\", StringType(), True),\n",
    "    StructField(\"outcome_type\", StringType(), True),\n",
    "    StructField(\"manofmach\", StringType(), True),\n",
    "    StructField(\"win_margin\", IntegerType(), True),\n",
    "    StructField(\"country_id\", IntegerType(), True)\n",
    "])"
   ]
  },
  {
   "cell_type": "code",
   "execution_count": 0,
   "metadata": {
    "application/vnd.databricks.v1+cell": {
     "cellMetadata": {
      "byteLimit": 2048000,
      "rowLimit": 10000
     },
     "inputWidgets": {},
     "nuid": "36b68bf0-bcb4-43ac-82f7-fc729237b4e7",
     "showTitle": false,
     "tableResultSettingsMap": {},
     "title": ""
    }
   },
   "outputs": [],
   "source": [
    "player_schema = StructType([\n",
    "    StructField(\"player_sk\", IntegerType(), True),\n",
    "    StructField(\"player_id\", IntegerType(), True),\n",
    "    StructField(\"player_name\", StringType(), True),\n",
    "    StructField(\"dob\", DateType(), True),\n",
    "    StructField(\"batting_hand\", StringType(), True),\n",
    "    StructField(\"bowling_skill\", StringType(), True),\n",
    "    StructField(\"country_name\", StringType(), True)\n",
    "])"
   ]
  },
  {
   "cell_type": "code",
   "execution_count": 0,
   "metadata": {
    "application/vnd.databricks.v1+cell": {
     "cellMetadata": {
      "byteLimit": 2048000,
      "rowLimit": 10000
     },
     "inputWidgets": {},
     "nuid": "3e444903-6cfc-4284-9a9e-ce8fdfccfb43",
     "showTitle": false,
     "tableResultSettingsMap": {},
     "title": ""
    }
   },
   "outputs": [],
   "source": [
    "player_match_schema = StructType([\n",
    "    StructField(\"player_match_sk\", IntegerType(), True),\n",
    "    StructField(\"playermatch_key\", DecimalType(10, 2), True),\n",
    "    StructField(\"match_id\", IntegerType(), True),\n",
    "    StructField(\"player_id\", IntegerType(), True),\n",
    "    StructField(\"player_name\", StringType(), True),\n",
    "    StructField(\"dob\", DateType(), True),\n",
    "    StructField(\"batting_hand\", StringType(), True),\n",
    "    StructField(\"bowling_skill\", StringType(), True),\n",
    "    StructField(\"country_name\", StringType(), True),\n",
    "    StructField(\"role_desc\", StringType(), True),\n",
    "    StructField(\"player_team\", StringType(), True),\n",
    "    StructField(\"opposit_team\", StringType(), True),\n",
    "    StructField(\"season_year\", IntegerType(), True),\n",
    "    StructField(\"is_manofthematch\", BooleanType(), True),\n",
    "    StructField(\"age_as_on_match\", IntegerType(), True),\n",
    "    StructField(\"isplayers_team_won\", BooleanType(), True),\n",
    "    StructField(\"batting_status\", StringType(), True),\n",
    "    StructField(\"bowling_status\", StringType(), True),\n",
    "    StructField(\"player_captain\", StringType(), True),\n",
    "    StructField(\"opposit_captain\", StringType(), True),\n",
    "    StructField(\"player_keeper\", StringType(), True),\n",
    "    StructField(\"opposit_keeper\", StringType(), True)\n",
    "])"
   ]
  },
  {
   "cell_type": "code",
   "execution_count": 0,
   "metadata": {
    "application/vnd.databricks.v1+cell": {
     "cellMetadata": {
      "byteLimit": 2048000,
      "rowLimit": 10000
     },
     "inputWidgets": {},
     "nuid": "50ac69b2-c421-4b43-b80b-1e989973acc3",
     "showTitle": false,
     "tableResultSettingsMap": {},
     "title": ""
    }
   },
   "outputs": [],
   "source": [
    "team_schema = StructType([\n",
    "    StructField(\"team_sk\", IntegerType(), True),\n",
    "    StructField(\"team_id\", IntegerType(), True),\n",
    "    StructField(\"team_name\", StringType(), True)\n",
    "])"
   ]
  },
  {
   "cell_type": "code",
   "execution_count": 0,
   "metadata": {
    "application/vnd.databricks.v1+cell": {
     "cellMetadata": {
      "byteLimit": 2048000,
      "rowLimit": 10000
     },
     "inputWidgets": {},
     "nuid": "5af86a19-49b6-45e1-bcaf-f07064d51e13",
     "showTitle": false,
     "tableResultSettingsMap": {},
     "title": ""
    }
   },
   "outputs": [],
   "source": [
    "ball_by_ball_df = spark.read.schema(ball_by_ball_schema).format(\"csv\").option(\"header\",\"true\").load(\"/mnt/mount_s3/Ball_By_Ball.csv\")\n",
    "match_df = spark.read.schema(match_schema).format(\"csv\").option(\"header\",\"true\").load(\"/mnt/mount_s3/Match.csv\")\n",
    "player_df = spark.read.schema(player_schema).format(\"csv\").option(\"header\",\"true\").load(\"/mnt/mount_s3/Player.csv\")\n",
    "player_match_df = spark.read.schema(player_match_schema).format(\"csv\").option(\"header\",\"true\").load(\"/mnt/mount_s3/Player_match.csv\")\n",
    "team_df = spark.read.schema(team_schema).format(\"csv\").option(\"header\",\"true\").load(\"/mnt/mount_s3/Team.csv\")"
   ]
  },
  {
   "cell_type": "code",
   "execution_count": 0,
   "metadata": {
    "application/vnd.databricks.v1+cell": {
     "cellMetadata": {
      "byteLimit": 2048000,
      "rowLimit": 10000
     },
     "inputWidgets": {},
     "nuid": "c88bab11-a95a-4c86-8e7b-5dcf6c937bd2",
     "showTitle": true,
     "tableResultSettingsMap": {},
     "title": "Player with Most runs"
    }
   },
   "outputs": [
    {
     "output_type": "display_data",
     "data": {
      "image/png": "[encoded data removed]"
     },
     "metadata": {
      "application/vnd.databricks.v1+output": {
       "addedWidgets": {},
       "arguments": {},
       "data": "data:image/png;base64,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\n",
       "datasetInfos": [],
       "metadata": {},
       "removedWidgets": [],
       "type": "image"
      }
     },
     "output_type": "display_data"
    }
   ],
   "source": [
    "most_runs_df = (\n",
    "    ball_by_ball_df.groupBy(\"striker\").agg(sum(\"runs_scored\").alias(\"total_runs\")).orderBy(col(\"total_runs\").desc()).limit(10)\n",
    ")\n",
    "\n",
    "top_players_df = most_runs_df.join(player_df, most_runs_df.striker == player_df.player_id, \"inner\")\n",
    "\n",
    "top_players_pandas = top_players_df.select(\"player_name\", \"total_runs\").toPandas()\n",
    "\n",
    "plt.figure(figsize=(12, 6))\n",
    "sns.barplot(\n",
    "    data=top_players_pandas,\n",
    "    x=\"total_runs\",\n",
    "    y=\"player_name\",\n",
    "    palette=\"coolwarm\"\n",
    ")\n",
    "plt.title(\"Top 10 Players by Total Runs Scored\", fontsize=16)\n",
    "plt.xlabel(\"Total Runs\", fontsize=12)\n",
    "plt.ylabel(\"Player Name\", fontsize=12)\n",
    "plt.tight_layout()\n",
    "plt.show()\n"
   ]
  },
  {
   "cell_type": "code",
   "execution_count": 0,
   "metadata": {
    "application/vnd.databricks.v1+cell": {
     "cellMetadata": {
      "byteLimit": 2048000,
      "rowLimit": 10000
     },
     "inputWidgets": {},
     "nuid": "19a5c089-fa47-4ed0-ac1f-b556cb7506f8",
     "showTitle": false,
     "tableResultSettingsMap": {},
     "title": ""
    }
   },
   "outputs": [
    {
     "output_type": "stream",
     "name": "stdout",
     "output_type": "stream",
     "text": [
      "+--------------+----------+\n|   player_name|total_runs|\n+--------------+----------+\n|   BB McCullum|       158|\n|      V Sehwag|       119|\n|      V Sehwag|       122|\n|AB de Villiers|       129|\n|AB de Villiers|       133|\n|      CH Gayle|       128|\n|      CH Gayle|       175|\n|   PC Valthaty|       120|\n|       M Vijay|       127|\n|     DA Warner|       126|\n+--------------+----------+\n\n"
     ]
    }
   ],
   "source": [
    "# Step 1: Group and aggregate the data in Spark\n",
    "highest_runs_in_match_df = (\n",
    "    ball_by_ball_df\n",
    "    .groupBy(\"match_id\", \"striker\")\n",
    "    .agg(sum(\"runs_scored\").alias(\"total_runs\"))\n",
    "    .orderBy(col(\"total_runs\").desc())\n",
    "    .limit(10).distinct()\n",
    ")\n",
    "\n",
    "highest_runs_with_name_df = highest_runs_in_match_df.join(\n",
    "    player_df,\n",
    "    highest_runs_in_match_df.striker == player_df.player_id,\n",
    "    \"inner\"\n",
    ").select(\n",
    "    player_df.player_name,\n",
    "    highest_runs_in_match_df.total_runs\n",
    ")\n",
    "\n",
    "\n",
    "highest_runs_with_name_df.show()\n",
    "\n"
   ]
  },
  {
   "cell_type": "code",
   "execution_count": 0,
   "metadata": {
    "application/vnd.databricks.v1+cell": {
     "cellMetadata": {},
     "inputWidgets": {},
     "nuid": "e9569ac3-60e0-4dc2-832f-d33347239cae",
     "showTitle": false,
     "tableResultSettingsMap": {},
     "title": ""
    }
   },
   "outputs": [],
   "source": [
    "ball_by_ball_df.createOrReplaceTempView(\"ball_by_ball\")\n",
    "match_df.createOrReplaceTempView(\"match\")\n",
    "player_df.createOrReplaceTempView(\"player\")\n",
    "player_match_df.createOrReplaceTempView(\"player_match\")\n",
    "team_df.createOrReplaceTempView(\"team\")"
   ]
  }
 ],
 "metadata": {
  "application/vnd.databricks.v1+notebook": {
   "computePreferences": null,
   "dashboards": [],
   "environmentMetadata": {
    "base_environment": "",
    "client": "1"
   },
   "language": "python",
   "notebookMetadata": {
    "mostRecentlyExecutedCommandWithImplicitDF": {
     "commandId": 4213482093363825,
     "dataframes": [
      "_sqldf"
     ]
    },
    "pythonIndentUnit": 4
   },
   "notebookName": "ipl_data_analysis_spark",
   "widgets": {}
  }
 },
 "nbformat": 4,
 "nbformat_minor": 0
}
